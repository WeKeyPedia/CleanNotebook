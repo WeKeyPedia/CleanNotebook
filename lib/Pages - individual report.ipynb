{
 "cells": [
  {
   "cell_type": "markdown",
   "metadata": {},
   "source": [
    "# Pages report"
   ]
  },
  {
   "cell_type": "markdown",
   "metadata": {},
   "source": [
    "This notebook is a workaround to build indivual page reports. It defines the main functions to display a report (`display_report(pagename)`). That allow other notebooks to import and explore the various data about the computed data from wikipedia pages and subsequent relationshipts (networks of users-pages, pages-pages and users-users). It also include synthesis of time wise analysis like page views analytics.\n",
    "\n",
    "This page is mainly used by the [page explorer](page explorer.ipynb) notebook."
   ]
  },
  {
   "cell_type": "code",
   "execution_count": 5,
   "metadata": {
    "collapsed": false
   },
   "outputs": [],
   "source": [
    "# -*- coding: utf-8 -*-\n",
    "%matplotlib inline\n",
    "%config InlineBackend.figure_formats=['svg']\n",
    "\n",
    "import json\n",
    "import codecs\n",
    "\n",
    "import math\n",
    "\n",
    "import numpy as np\n",
    "\n",
    "import pandas as pd\n",
    "import datetime as dt\n",
    "\n",
    "import matplotlib as mpl\n",
    "import matplotlib.pyplot as plt\n",
    "import matplotlib.dates as dates\n",
    "\n",
    "import networkx as nx\n",
    "\n",
    "import seaborn as sns\n",
    "\n",
    "sns.set(style=\"whitegrid\")\n",
    "import networkx as nx\n",
    "from IPython.display import display, HTML"
   ]
  },
  {
   "cell_type": "markdown",
   "metadata": {},
   "source": [
    "# importing datasets"
   ]
  },
  {
   "cell_type": "code",
   "execution_count": 6,
   "metadata": {
    "collapsed": false
   },
   "outputs": [],
   "source": [
    "#base_dir = '../listgeometry'\n",
    "\n",
    "# list of page names\n",
    "#pagenames_file = '%s/pagenames' % basedir\n",
    "#pages = codecs.open(pagenames_file,\"r\", \"utf-8-sig\").readlines()\n",
    "#pages = map(lambda x: x.strip(), pages)\n",
    "\n",
    "# page graph obtained by projecting page-editor bi-partite graph\n",
    "#pages_graph = nx.read_gexf(\"%s/graph/projected_graph_page.gexf\" % basedir)\n",
    "\n",
    "# page graph obtained by projecting page-editor bi-partite graph\n",
    "#pages_editors_graph = nx.read_gexf(\"%s/graph/pages-editors-graph.gexf\" % directory)"
   ]
  },
  {
   "cell_type": "code",
   "execution_count": 7,
   "metadata": {
    "collapsed": true
   },
   "outputs": [],
   "source": [
    "def table_to_html(data, cols=[]):\n",
    "    html = \"<table>\"\n",
    "    html += \"<tr>\"\n",
    "    for column_content in cols:\n",
    "        html += \"<th>%s</th>\" % (column_content)\n",
    "    html += \"</tr>\"\n",
    "    \n",
    "    for d in data:\n",
    "        html += \"<tr>\"\n",
    "        for column_content in d:\n",
    "            html += \"<td>%s</td>\" % (column_content)\n",
    "        html += \"</tr>\"\n",
    "    html += \"</table>\"\n",
    "        \n",
    "    return HTML(html)"
   ]
  },
  {
   "cell_type": "markdown",
   "metadata": {},
   "source": [
    "## top editors"
   ]
  },
  {
   "cell_type": "code",
   "execution_count": 8,
   "metadata": {
    "collapsed": false
   },
   "outputs": [
    {
     "ename": "NameError",
     "evalue": "name 'base_dir' is not defined",
     "output_type": "error",
     "traceback": [
      "\u001b[1;31m---------------------------------------------------------------------------\u001b[0m",
      "\u001b[1;31mNameError\u001b[0m                                 Traceback (most recent call last)",
      "\u001b[1;32m<ipython-input-8-e2226d21bbb8>\u001b[0m in \u001b[0;36m<module>\u001b[1;34m()\u001b[0m\n\u001b[0;32m     19\u001b[0m \u001b[1;33m\u001b[0m\u001b[0m\n\u001b[0;32m     20\u001b[0m \u001b[1;32mif\u001b[0m \u001b[0m__name__\u001b[0m \u001b[1;33m==\u001b[0m \u001b[1;34m\"__main__\"\u001b[0m\u001b[1;33m:\u001b[0m\u001b[1;33m\u001b[0m\u001b[0m\n\u001b[1;32m---> 21\u001b[1;33m     \u001b[0mdisplay_top_editors\u001b[0m\u001b[1;33m(\u001b[0m\u001b[0mbase_dir\u001b[0m\u001b[1;33m,\u001b[0m\u001b[1;34m\"Pi\"\u001b[0m\u001b[1;33m)\u001b[0m\u001b[1;33m\u001b[0m\u001b[0m\n\u001b[0m",
      "\u001b[1;31mNameError\u001b[0m: name 'base_dir' is not defined"
     ]
    }
   ],
   "source": [
    "def display_top_editors(directory,page):    \n",
    "    pages_editors_graph = nx.read_gexf(\"%s/graph/pages-editors-graph.gexf\" % directory)\n",
    "    \n",
    "    \n",
    "    top_editors = pages_editors_graph[\"p:%s\" % (page)]    \n",
    "#    print top_editors.items()\n",
    "    top_editors = sorted(top_editors.items(), key=lambda x: (-x[1][\"revisions\"], -pages_editors_graph.node[x[0]][\"revisions\"]))\n",
    "\n",
    "    # print top_editors\n",
    "    \n",
    "    data = []\n",
    "\n",
    "    for name, edits in top_editors[0:10]:\n",
    "        data.append([\"<a href=\\\"http://en.wikipedia.org/wiki/User:{0}\\\" target=\\\"_blank\\\">{0}</a>\".format(name.split(\":\")[1]),\n",
    "                     edits[\"revisions\"],\n",
    "                    pages_editors_graph.node[name][\"revisions\"]])\n",
    "\n",
    "    display(table_to_html(data, [\"editor name\", \"edits on that page\", \"edits over the corpus\"]))\n",
    "\n",
    "if __name__ == \"__main__\":\n",
    "    display_top_editors(base_dir,\"Pi\")    "
   ]
  },
  {
   "cell_type": "markdown",
   "metadata": {},
   "source": [
    "## pageviews and revisions"
   ]
  },
  {
   "cell_type": "code",
   "execution_count": null,
   "metadata": {
    "collapsed": false
   },
   "outputs": [],
   "source": [
    "def display_pageviews_revisions(directory,page):\n",
    "    pageviews = pd.DataFrame.from_csv(\"%s/data/pageviews/%s.weekly.csv\" % (directory,page))\n",
    "    revisions = pd.DataFrame.from_csv(\"%s/data/revisions/%s.weekly.csv\" % (directory,page))\n",
    "\n",
    "    pageviews.plot(figsize=(12, 2), subplots=False, linewidth=\"0.5\", ylim=0, colormap=\"Spectral\", rot=0)    \n",
    "    revisions.plot(figsize=(12, 2), linewidth=\"0.5\", ylim=0)\n",
    "    plt.show() \n",
    "\n",
    "if __name__ == \"__main__\":\n",
    "    display_pageviews_revisions(base_dir,\"Pi\")"
   ]
  },
  {
   "cell_type": "markdown",
   "metadata": {},
   "source": [
    "## local graph"
   ]
  },
  {
   "cell_type": "code",
   "execution_count": null,
   "metadata": {
    "collapsed": false
   },
   "outputs": [],
   "source": [
    "def display_local_graph(directory,page):\n",
    "    g1 = nx.read_gexf(\"%s/data/reading_maps/pages-coedited-reduced-3.gexf\" % directory)\n",
    "    nbunch = [ page ]\n",
    "    nbunch.extend( list(g1.to_undirected()[page]))\n",
    "    g2 = g1.subgraph(nbunch)\n",
    "\n",
    "    #nx.draw_spring(g2)\n",
    "    \n",
    "    pos = nx.spring_layout(g2,iterations=50)\n",
    "   \n",
    "    nx.draw_networkx_nodes(g2, pos)\n",
    "    nx.draw_networkx_edges(g2, pos)\n",
    "    nx.draw_networkx_labels(g2, pos)\n",
    "    \n",
    "    plt.axis('off')\n",
    "    plt.show()\n",
    "\n",
    "if __name__ == \"__main__\":\n",
    "    display_local_graph(base_dir,\"Paraboloid\")"
   ]
  },
  {
   "cell_type": "markdown",
   "metadata": {},
   "source": [
    "# final report"
   ]
  },
  {
   "cell_type": "code",
   "execution_count": null,
   "metadata": {
    "collapsed": false,
    "scrolled": false
   },
   "outputs": [],
   "source": [
    "def display_report(page):\n",
    "    directory=base_dir\n",
    "    pages_graph = nx.read_gexf(\"%s/graph/projected_graph_page.gexf\" % directory)\n",
    "    pages_editors_graph = nx.read_gexf(\"%s/graph/pages-editors-graph.gexf\" % directory)\n",
    "    \n",
    "    display(HTML(\"<h2>%s</h2>\" % (page)))\n",
    "    \n",
    "    #display(HTML(\"<div style=\\\"float:left\\\">\"))    \n",
    "    display(HTML(\"<h3>co-edited pages</h3>\"))\n",
    "\n",
    "    nb = sorted(pages_graph[\"p:%s\" % (page)].items(),\n",
    "            key=lambda (k,x): -int(x[\"coeditors\"]))\n",
    "\n",
    "    data = []\n",
    "\n",
    "    # calculate rank in neighbor top co-edited ranking\n",
    "    for name, info in nb:\n",
    "        nb_mirror = sorted(pages_graph[name].items(),\n",
    "                key=lambda (k,x): -int(x[\"coeditors\"]))\n",
    "        nb_mirror = [ x[0] for x in nb_mirror ]\n",
    "        \n",
    "        editors = pages_editors_graph[name]        \n",
    "        info[\"editors\"] = len(editors)\n",
    "        info[\"exclusive editors\"] = len([n for n in editors if len(pages_editors_graph[n]) == 1 ])\n",
    "\n",
    "        info[\"ranking\"] = nb_mirror.index(\"p:%s\" % (page)) + 1\n",
    "\n",
    "    #print nb\n",
    "\n",
    "    for name, info in nb[0:10]:\n",
    "        data.append([ u\"<a href=\\\"http://en.wikipedia.org/wiki/{0}\\\" target=\\\"_blank\\\">{0}</a>\".format(name.split(\":\")[1]),\n",
    "                     info[\"editors\"],\n",
    "                     info[\"coeditors\"],\n",
    "                     float(info[\"coeditors\"]) / float(info[\"editors\"]),\n",
    "                     info[\"exclusive editors\"],\n",
    "                     info[\"ranking\"]])\n",
    "\n",
    "    display(table_to_html(data, [\"page name\", \"editors\", \"co-editors\", \"co-editors/editors\", \"exclusive editors\" ,\"ranking\"]))\n",
    "    #display(HTML(\"</div>\"))    \n",
    "\n",
    "    #display(HTML(\"<div style=\\\"float:left\\\">\"))    \n",
    "    display(HTML(\"<h3>ranked first in</h3>\"))\n",
    "\n",
    "    nb_list = [ x[0] for x in nb ]\n",
    "    data = []\n",
    "\n",
    "    nb2 = sorted(nb, key=lambda (x): x[1][\"ranking\"])\n",
    "    for name, info in nb2[0:10]:\n",
    "        editors = pages_editors_graph[name]        \n",
    "        info[\"editors\"] = len(editors)\n",
    "        info[\"exclusive editors\"] = len([n for n in editors if len(pages_editors_graph[n]) == 1 ])\n",
    "\n",
    "        data.append([ u\"<a href=\\\"http://en.wikipedia.org/wiki/{0}\\\" target=\\\"_blank\\\">{0}</a>\".format(name.split(\":\")[1]),\n",
    "                     info[\"editors\"],\n",
    "                     info[\"coeditors\"],\n",
    "                     float(info[\"coeditors\"]) / float(info[\"editors\"]),\n",
    "                     info[\"exclusive editors\"],\n",
    "                     info[\"ranking\"]])  \n",
    "\n",
    "    display(table_to_html(data, [\"page name\", \"editors\", \"co-editors\", \"co-editors/editors\", \"exclusive editors\" ,\"ranking\"]))\n",
    "#     display(HTML(\"</div>\"))    \n",
    "#     display(HTML(\"<div style=\\\"clear:both\\\"></div>\"))\n",
    "    \n",
    "    display(HTML(\"<h3>pageviews and revisions</h3>\"))\n",
    "    display_pageviews_revisions(directory,page)\n",
    "    \n",
    "    display(HTML(\"<h3>top editors</h3>\"))\n",
    "    display_top_editors(directory,page)\n",
    "\n",
    "    display(HTML(\"<h3>local subgraph</h3>\"))\n",
    "    display_local_graph(directory,page)\n",
    "    \n",
    "if __name__ == \"__main__\":\n",
    "    display_report(\"3-sphere\")"
   ]
  }
 ],
 "metadata": {
  "kernelspec": {
   "display_name": "Python 2",
   "language": "python",
   "name": "python2"
  },
  "language_info": {
   "codemirror_mode": {
    "name": "ipython",
    "version": 2
   },
   "file_extension": ".py",
   "mimetype": "text/x-python",
   "name": "python",
   "nbconvert_exporter": "python",
   "pygments_lexer": "ipython2",
   "version": "2.7.9"
  }
 },
 "nbformat": 4,
 "nbformat_minor": 0
}
