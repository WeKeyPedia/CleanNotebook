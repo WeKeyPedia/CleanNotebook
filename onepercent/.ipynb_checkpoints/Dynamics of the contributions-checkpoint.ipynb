{
 "cells": [
  {
   "cell_type": "markdown",
   "metadata": {},
   "source": [
    "# Analysis of the dynamics of contributions\n",
    "\n",
    "In this notebook, we study how the contributions on a set of pages evolve over time. The dataset is compose of one percent of the articles of the english wikipedia randomnly chosen.\n",
    "\n",
    "To study the articles we will used a few parameters: Importance, Quality, revisions, pageviews.\n",
    "In wikipedia the articles are ranked by importance and quality; see http://en.wikipedia.org/wiki/Wikipedia:Version_1.0_Editorial_Team/Assessment. The difference value for importance are: Top=4, High=3, Mid=2, Low=1, ???=0 and for the quality: Featured-class=6, A-class and GA-class=5, B-class=4, C-class=3, start-class=2, stub-class=1. The pageviews are obtained using the api: http://stats.grok.se/ ."
   ]
  },
  {
   "cell_type": "code",
   "execution_count": 1,
   "metadata": {
    "collapsed": false
   },
   "outputs": [],
   "source": [
    "# -*- coding: utf-8 -*-\n",
    "%matplotlib inline\n",
    "%config InlineBackend.figure_formats=['svg']\n",
    "\n",
    "import seaborn as sns\n",
    "import pandas as pd\n",
    "import matplotlib.pyplot as plt\n",
    "from IPython.display import display, HTML\n",
    "\n",
    "\n",
    "dataset_dir_name = 'onepercent'\n",
    "stats_dir_name = '%s/stats' % (dataset_dir_name)\n",
    "basic_stats_file_name = '%s/basic_stats.csv' % stats_dir_name\n",
    "\n",
    "df_basic_stats = pd.DataFrame()\n",
    "df_basic_stats = df_basic_stats.from_csv(basic_stats_file_name, encoding=\"utf-8\")  \n",
    "df_basic_stats = df_basic_stats.fillna(0)"
   ]
  },
  {
   "cell_type": "markdown",
   "metadata": {},
   "source": [
    "## Changes in the number of contributions from one year to the other."
   ]
  },
  {
   "cell_type": "code",
   "execution_count": null,
   "metadata": {
    "collapsed": false
   },
   "outputs": [],
   "source": [
    "indexes = ['revisions_2001','revisions_2002','revisions_2003',\n",
    "           'revisions_2004','revisions_2005','revisions_2006',\n",
    "           'revisions_2007','revisions_2008','revisions_2009',\n",
    "           'revisions_2010','revisions_2011','revisions_2012',\n",
    "           'revisions_2013','revisions_2014']\n",
    "\n",
    "f, ax = plt.subplots(figsize=(8, 6))\n",
    "sns.corrplot(df_basic_stats[indexes],diag_names=False)\n",
    "plt.show()"
   ]
  },
  {
   "cell_type": "code",
   "execution_count": null,
   "metadata": {
    "collapsed": false
   },
   "outputs": [],
   "source": [
    "indexes = ['Page_views_2007','Page_views_2008','Page_views_2009',\n",
    "           'Page_views_2010','Page_views_2011','Page_views_2012',\n",
    "           'Page_views_2013','Page_views_2014']\n",
    "\n",
    "f, ax = plt.subplots(figsize=(8, 6))\n",
    "sns.corrplot(df_basic_stats[indexes],diag_names=False)\n",
    "plt.show()"
   ]
  },
  {
   "cell_type": "markdown",
   "metadata": {},
   "source": [
    "We can see that the change of contributions and pageviews from one year to the other is very limited and the value are highly corrolated. Over a period of a few year, those value does not corrolated as well."
   ]
  },
  {
   "cell_type": "markdown",
   "metadata": {
    "collapsed": false
   },
   "source": [
    "# Evolution\n",
    "\n",
    "In this section, we partition the pages used the quality and the importance they reached in 2015. We then look at how the contributions to those group evolve over time. "
   ]
  },
  {
   "cell_type": "code",
   "execution_count": null,
   "metadata": {
    "collapsed": true
   },
   "outputs": [],
   "source": [
    "importance_file_name = '%s/importance_stats.csv' % stats_dir_name\n",
    "\n",
    "df_importance = pd.DataFrame()\n",
    "df_importance = df_importance.from_csv(importance_file_name, encoding=\"utf-8\")\n",
    "df_importance = df_importance.fillna(0)\n"
   ]
  },
  {
   "cell_type": "code",
   "execution_count": null,
   "metadata": {
    "collapsed": false
   },
   "outputs": [],
   "source": [
    "df_importance.plot(kind='area',sort_columns=True)"
   ]
  },
  {
   "cell_type": "code",
   "execution_count": null,
   "metadata": {
    "collapsed": false
   },
   "outputs": [],
   "source": [
    "quality_file_name = '%s/quality_stats.csv' % stats_dir_name\n",
    "\n",
    "df_quality = pd.DataFrame()\n",
    "df_quality = df_quality.from_csv(quality_file_name, encoding=\"utf-8\")\n",
    "df_quality = df_quality.fillna(0)\n",
    "\n",
    "df_quality.plot(kind='area',sort_columns=True)"
   ]
  },
  {
   "cell_type": "markdown",
   "metadata": {
    "collapsed": true
   },
   "source": [
    "We see that the number of contributions a pages rec"
   ]
  },
  {
   "cell_type": "code",
   "execution_count": null,
   "metadata": {
    "collapsed": true
   },
   "outputs": [],
   "source": []
  },
  {
   "cell_type": "code",
   "execution_count": null,
   "metadata": {
    "collapsed": true
   },
   "outputs": [],
   "source": []
  },
  {
   "cell_type": "code",
   "execution_count": null,
   "metadata": {
    "collapsed": true
   },
   "outputs": [],
   "source": []
  },
  {
   "cell_type": "code",
   "execution_count": null,
   "metadata": {
    "collapsed": true
   },
   "outputs": [],
   "source": []
  }
 ],
 "metadata": {
  "kernelspec": {
   "display_name": "Python 2",
   "language": "python",
   "name": "python2"
  },
  "language_info": {
   "codemirror_mode": {
    "name": "ipython",
    "version": 2
   },
   "file_extension": ".py",
   "mimetype": "text/x-python",
   "name": "python",
   "nbconvert_exporter": "python",
   "pygments_lexer": "ipython2",
   "version": "2.7.6"
  }
 },
 "nbformat": 4,
 "nbformat_minor": 0
}
