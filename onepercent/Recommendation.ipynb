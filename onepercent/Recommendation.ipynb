{
 "cells": [
  {
   "cell_type": "markdown",
   "metadata": {},
   "source": [
    "This notebook is used to test recommandation based on links present on a pages. "
   ]
  },
  {
   "cell_type": "code",
   "execution_count": 1,
   "metadata": {
    "collapsed": false
   },
   "outputs": [],
   "source": [
    "# -*- coding: utf-8 -*-\n",
    "%matplotlib inline\n",
    "%config InlineBackend.figure_formats=['svg']\n",
    "\n",
    "from pymongo import MongoClient\n",
    "\n",
    "from IPython.display import display, HTML\n",
    "\n",
    "from wekeypedia.wikipedia.page import WikipediaPage as Page\n",
    "\n",
    "import pandas as pd\n",
    "import datetime as dt\n",
    "\n",
    "#import json\n",
    "#import os\n",
    "#import hashlib\n",
    "#import sys\n",
    "#import math\n",
    "#import codecs\n",
    "#import numpy as np\n",
    "#import seaborn as sns\n",
    "#import datetime\n",
    "#import matplotlib as mpl\n",
    "#import matplotlib.pyplot as plt\n",
    "#import matplotlib.dates as dates\n",
    "#import networkx as nx"
   ]
  },
  {
   "cell_type": "code",
   "execution_count": 2,
   "metadata": {
    "collapsed": false
   },
   "outputs": [],
   "source": [
    "client = MongoClient('localhost', 27017)\n",
    "dbwekey = client.get_database('wekeypedia')\n",
    "\n",
    "clickstream_col = dbwekey.get_collection('clickstream')\n",
    "\n",
    "\n",
    "info_col = dbwekey.get_collection('info')\n",
    "links_col = dbwekey.get_collection('links')\n",
    "backlinks_col = dbwekey.get_collection('backlinks')\n",
    "pageviews_col = dbwekey.get_collection('pageviews')\n",
    "caegories_col = dbwekey.get_collection('categories')\n",
    "revisions_col = dbwekey.get_collection('revisions')\n"
   ]
  },
  {
   "cell_type": "code",
   "execution_count": 3,
   "metadata": {
    "collapsed": false
   },
   "outputs": [
    {
     "data": {
      "text/plain": [
       "[u'system.indexes',\n",
       " u'clickstream',\n",
       " u'info',\n",
       " u'pageviews',\n",
       " u'links',\n",
       " u'backlinks',\n",
       " u'recommendation',\n",
       " u'revisions']"
      ]
     },
     "execution_count": 3,
     "metadata": {},
     "output_type": "execute_result"
    }
   ],
   "source": [
    "dbwekey.collection_names()"
   ]
  },
  {
   "cell_type": "code",
   "execution_count": 4,
   "metadata": {
    "collapsed": false
   },
   "outputs": [],
   "source": [
    "#print {item['title']:item['click'] for item in clickstream_col.find_one({'title':'Algorithm'}).get('links')}"
   ]
  },
  {
   "cell_type": "markdown",
   "metadata": {},
   "source": [
    "The next function are used to download data. The jar used are generated used the java toolkit.\n",
    "\n",
    "Can be improve by imporving the manipulation of the java toolkit by command line."
   ]
  },
  {
   "cell_type": "code",
   "execution_count": 5,
   "metadata": {
    "collapsed": false
   },
   "outputs": [],
   "source": [
    "from subprocess import Popen\n",
    "from subprocess import PIPE\n",
    "\n",
    "def dl_pages_data(jar_file,collection,list_of_page_names):\n",
    "    proc = Popen([\"java\",\"-jar\",jar_file,\"-mongo\",\"-nbThread\",\"7\"],stdin=PIPE)#,stdout=open('debug.txt','wb'))\n",
    "    proc.stdin.write('\\n'.join(list_of_page_names).encode('utf8'))\n",
    "    proc.stdin.close()\n",
    "    proc.wait()\n",
    "\n",
    "def dl_pages_info(list_of_page_names):\n",
    "    dl_pages_data(\"jar/info.jar\",info_col,list_of_page_names)\n",
    "\n",
    "def dl_pages_links(list_of_page_names):\n",
    "    dl_pages_data(\"jar/links.jar\",links_col,list_of_page_names)\n",
    "\n",
    "def dl_pages_backlinks(list_of_page_names):\n",
    "    dl_pages_data(\"jar/backlinks.jar\",backlinks_col,list_of_page_names)\n",
    "\n",
    "def dl_pages_pageviews(list_of_page_names):\n",
    "    dl_pages_data(\"jar/pageviews.jar\",pageviews_col,list_of_page_names)\n",
    "\n",
    "def dl_pages_revisions(list_of_page_names):\n",
    "    dl_pages_data(\"jar/revisions.jar\",revisions_col,list_of_page_names)\n",
    "\n",
    "def dl_pages_categories(list_of_page_names):\n",
    "    dl_pages_data(\"jar/categories.jar\",categories_col,list_of_page_names)\n",
    "\n",
    "def dl_resolve_redirects(list_of_pages):\n",
    "    dl_pages_info(list_of_pages)\n",
    "    res=set()\n",
    "    for page_name,page in get_pages_info(list_of_pages).items():\n",
    "        if page!=None and 'missing' not in page:\n",
    "            if u'redirects_to' in page:\n",
    "                res.add(page[u'redirects_to'])\n",
    "            else:\n",
    "                res.add(page[u'title'])\n",
    "    return(res)\n",
    "        \n",
    "\n",
    "    \n",
    "    \n",
    "def get_pages_data(collection,list_of_page_names):\n",
    "    res={}\n",
    "    for page in list_of_page_names:\n",
    "        res[page]=collection.find_one({'title':page})\n",
    "    return res\n",
    "\n",
    "def get_pages_info(list_of_page_names):\n",
    "    return get_pages_data(info_col,list_of_page_names)\n",
    "\n",
    "def get_pages_links(list_of_page_names):\n",
    "    return get_pages_data(links_col,list_of_page_names)\n",
    "\n",
    "def get_pages_backlinks(list_of_page_names):\n",
    "    return get_pages_data(backlinks_col,list_of_page_names)\n",
    "\n",
    "def get_pages_pageviews(list_of_page_names):\n",
    "    return get_pages_data(pageviews_col,list_of_page_names)\n",
    " \n",
    "def get_pages_revisions(list_of_page_names):\n",
    "    return get_pages_data(revisions_col,list_of_page_names)\n",
    "\n",
    "def get_pages_categories(list_of_page_names):\n",
    "    return get_pages_data(categories_col,list_of_page_names)\n",
    "    \n",
    "def resolve_redirects(list_of_pages):\n",
    "    res=set()\n",
    "    for page_name,page in get_pages_info(list_of_pages).items():\n",
    "        if page!=None and 'missing' not in page:\n",
    "            if u'redirects_to' in page:\n",
    "                res.add(page[u'redirects_to'])\n",
    "            else:\n",
    "                res.add(page[u'title'])\n",
    "    return(res)\n",
    "\n",
    "\n",
    "\n",
    "\n",
    "#dest='Algorithm'\n",
    "#print [ x['title'] for x in get_pages_backlinks([dest])[dest]['backlinks'] ]\n",
    "#dic = get_pages_pageviews([dest])[dest]['pageviews']\n",
    "#print sorted(dic.items(), key=lambda x:x[1], reverse=True)\n",
    "#print sum([v for k,v in get_pages_pageviews([dest])[dest]['pageviews'].items()])"
   ]
  },
  {
   "cell_type": "code",
   "execution_count": null,
   "metadata": {
    "collapsed": true
   },
   "outputs": [],
   "source": [
    "To download the graph local to a page. "
   ]
  },
  {
   "cell_type": "code",
   "execution_count": 6,
   "metadata": {
    "collapsed": false
   },
   "outputs": [],
   "source": [
    "def dl_local_graph(page_name):\n",
    "    redir=dl_resolve_redirects([page_name])\n",
    "    if len(redir)==0:\n",
    "        return\n",
    "    dest=list(redir)[0]  \n",
    "    dl_pages_links([dest])   \n",
    "    dl_pages_backlinks([dest])\n",
    "\n",
    "    dl_resolve_redirects(set( [ x['title'] for x in get_pages_links([dest])[dest]['links'] ] ))\n",
    "    backlinks = dl_resolve_redirects(set ( [ x['title'] for x in get_pages_backlinks([dest])[dest]['backlinks'] ] ))\n",
    "\n",
    "    print \"nb backlinks\",len(backlinks),\n",
    "    dl_pages_pageviews(backlinks)\n",
    "\n",
    "    dl_pages_links(backlinks)\n",
    "    redirects=set()\n",
    "    for page in backlinks:\n",
    "        redirects = redirects.union([ x['title'] for x in get_pages_links([page])[page]['links'] ])\n",
    "    print \"nb redirects: \",len(redirects),\n",
    "    dl_resolve_redirects(redirects)\n",
    "\n",
    "\n",
    "def get_ranking(page_name):\n",
    "    redir=dl_resolve_redirects([page_name])\n",
    "    if len(redir)==0:\n",
    "        return []\n",
    "    dest=list(redir)[0]      \n",
    "    links = resolve_redirects(set ( [ x['title'] for x in get_pages_links([dest])[dest]['links'] ] ))\n",
    "    if dest in links: links.remove(page_name)\n",
    "    res = {}\n",
    "    for li in links:\n",
    "        res[li]=0\n",
    "        \n",
    "    backlinks = resolve_redirects(set ( [ x['title'] for x in get_pages_backlinks([dest])[dest]['backlinks'] ] ))\n",
    "    backlinks.remove(page_name)\n",
    "    for ba in backlinks:\n",
    "        links_ba = resolve_redirects(set ( [ x['title'] for x in get_pages_links([ba])[ba]['links'] ] ))\n",
    "        pageviews_ba = sum([v for k,v in get_pages_pageviews([ba])[ba]['pageviews'].items()])\n",
    "        for li in links & links_ba:\n",
    "            res[li]+=pageviews_ba\n",
    "\n",
    "    return(sorted(res.items(), key=lambda x:x[1], reverse=True))\n",
    "        \n",
    "    \n",
    "#dl_local_graph('Algorithm')\n",
    "\n",
    "#print 'finished dl...' \n",
    "#res = get_ranking('Algorithm')\n",
    "#print get_pages_info(['Properties of algorithms'])"
   ]
  },
  {
   "cell_type": "code",
   "execution_count": 13,
   "metadata": {
    "collapsed": false
   },
   "outputs": [],
   "source": [
    "#get_pages_links(['Travian'])['Travian']"
   ]
  },
  {
   "cell_type": "code",
   "execution_count": null,
   "metadata": {
    "collapsed": true
   },
   "outputs": [],
   "source": []
  },
  {
   "cell_type": "markdown",
   "metadata": {
    "collapsed": false
   },
   "source": [
    "The next function allow to get a ranking of the pages by the pageviews."
   ]
  },
  {
   "cell_type": "code",
   "execution_count": null,
   "metadata": {
    "collapsed": false
   },
   "outputs": [],
   "source": [
    "def get_pageviews_ranking(page_name):\n",
    "    redir=dl_resolve_redirects([page_name])\n",
    "    if len(redir)==0:\n",
    "        return []\n",
    "    dest=list(redir)[0] \n",
    "    dl_pages_revisions(dest)\n",
    "    contributors = set( [x['user'] for x in get_pages_revisions([dest])[dest]['revisions'] \n",
    "                        if x['userid']!=0 and 'BOT' not in x['user'].upper()] ) \n",
    "    links = resolve_redirects(set ( [ x['title'] for x in get_pages_links([dest])[dest]['links'] ] ))\n",
    "    dl_pages_revisions(links)\n",
    "    revisions = get_pages_revisions(links)\n",
    "    \n",
    "    res = {}\n",
    "    for page in revisions:\n",
    "        try:\n",
    "            contrib = set( [x['user'] for x in revisions[page]['revisions'] \n",
    "                            if 'user' in x and x['userid']!=0 and 'BOT' not in x['user'].upper()] )\n",
    "            res[page]=len(contributors & contrib)/(len(contributors | contrib)+0.0)\n",
    "        except:\n",
    "            print page\n",
    "            \n",
    "    return(sorted(res.items(), key=lambda x:x[1], reverse=True))"
   ]
  },
  {
   "cell_type": "code",
   "execution_count": 11,
   "metadata": {
    "collapsed": false
   },
   "outputs": [],
   "source": [
    "def get_revisions_ranking(page_name):\n",
    "    redir=dl_resolve_redirects([page_name])\n",
    "    if len(redir)==0:\n",
    "        return []\n",
    "    dest=list(redir)[0] \n",
    "    dl_pages_revisions(dest)\n",
    "    contributors = set( [x['user'] for x in get_pages_revisions([dest])[dest]['revisions'] \n",
    "                        if x['userid']!=0 and 'BOT' not in x['user'].upper()] ) \n",
    "    links = resolve_redirects(set ( [ x['title'] for x in get_pages_links([dest])[dest]['links'] ] ))\n",
    "    dl_pages_revisions(links)\n",
    "    revisions = get_pages_revisions(links)\n",
    "    \n",
    "    res = {}\n",
    "    for page in revisions:\n",
    "        try:\n",
    "            contrib = set( [x['user'] for x in revisions[page]['revisions'] \n",
    "                            if 'user' in x and x['userid']!=0 and 'BOT' not in x['user'].upper()] )\n",
    "            res[page]=len(contributors & contrib)#/(len(contributors | contrib)+0.0)\n",
    "        except:\n",
    "            print page\n",
    "            \n",
    "    return(sorted(res.items(), key=lambda x:x[1], reverse=True))\n",
    "\n",
    "#tmp = get_revisions_ranking('Algorithm')"
   ]
  },
  {
   "cell_type": "markdown",
   "metadata": {},
   "source": [
    "#basic functions"
   ]
  },
  {
   "cell_type": "code",
   "execution_count": 7,
   "metadata": {
    "collapsed": false
   },
   "outputs": [],
   "source": []
  },
  {
   "cell_type": "code",
   "execution_count": 15,
   "metadata": {
    "collapsed": false
   },
   "outputs": [],
   "source": [
    "def get_clicks_ranking(page_name):\n",
    "    global clickstream_col\n",
    "    page = clickstream_col.find_one({\"title\":page_name})\n",
    "    if page!=None:\n",
    "        res={}\n",
    "        for cl in page.get('links'):\n",
    "            dest = resolve_redirects( [cl['title'].replace('_',' ')] )\n",
    "            if len(dest)>0:\n",
    "                dest = list(dest )[0]\n",
    "                res[dest]=int(cl.get('click'))\n",
    "        return sorted(res.items(), key=lambda x:x[1], reverse=True)\n",
    "    return page\n",
    "\n",
    "#get_clicks('Travian')"
   ]
  },
  {
   "cell_type": "code",
   "execution_count": 8,
   "metadata": {
    "collapsed": false
   },
   "outputs": [],
   "source": [
    "#get_ranking('Travian')"
   ]
  },
  {
   "cell_type": "code",
   "execution_count": 28,
   "metadata": {
    "collapsed": false
   },
   "outputs": [],
   "source": [
    "#print get_clicks( 'Algorithm')"
   ]
  },
  {
   "cell_type": "markdown",
   "metadata": {
    "collapsed": true
   },
   "source": [
    "#Testing recommandation"
   ]
  },
  {
   "cell_type": "code",
   "execution_count": null,
   "metadata": {
    "collapsed": false
   },
   "outputs": [],
   "source": [
    "dl_pages_pageviews([k for (k,v) in dic_1])\n",
    "tmp = get_pages_pageviews([k for (k,v) in dic_1])\n",
    "dic_2={}\n",
    "for key in tmp:\n",
    "    try:\n",
    "        dic_2[key]=sum([v for k,v in tmp[key][\"pageviews\"].items()])\n",
    "    except:\n",
    "        print k\n",
    "print(len(dic_2))\n",
    "\n",
    "dic_3={k:v for (k,v) in get_revisions_ranking('Algorithm')}\n",
    "print len(dic_3)"
   ]
  },
  {
   "cell_type": "code",
   "execution_count": 16,
   "metadata": {
    "collapsed": false
   },
   "outputs": [
    {
     "name": "stdout",
     "output_type": "stream",
     "text": [
      "221\n"
     ]
    },
    {
     "data": {
      "text/html": [
       "<table><tr><td>Title</td><td>Dic 1</td><td>Dic 2</td><td>Dic 3</td></tr><tr><td><a href=\"https://en.wikipedia.org/wiki/Pi (disambiguation)\">Pi (disambiguation)</a></td><td>1739</td><td> -1 </td><td> <3 </td></tr><tr><td><a href=\"https://en.wikipedia.org/wiki/Squaring the circle\">Squaring the circle</a></td><td>1513</td><td> -1 </td><td> <3 </td></tr><tr><td><a href=\"https://en.wikipedia.org/wiki/Irrational number\">Irrational number</a></td><td>1198</td><td> -1 </td><td> <3 </td></tr><tr><td><a href=\"https://en.wikipedia.org/wiki/Pi (letter)\">Pi (letter)</a></td><td>1046</td><td> -1 </td><td> <3 </td></tr><tr><td><a href=\"https://en.wikipedia.org/wiki/Proof that π is irrational\">Proof that π is irrational</a></td><td>786</td><td> -1 </td><td> <3 </td></tr><tr><td><a href=\"https://en.wikipedia.org/wiki/Transcendental number\">Transcendental number</a></td><td>765</td><td> -1 </td><td> <3 </td></tr><tr><td><a href=\"https://en.wikipedia.org/wiki/Pi Day\">Pi Day</a></td><td>729</td><td> -1 </td><td> <3 </td></tr><tr><td><a href=\"https://en.wikipedia.org/wiki/Chronology of computation of π\">Chronology of computation of π</a></td><td>727</td><td> -1 </td><td> <3 </td></tr><tr><td><a href=\"https://en.wikipedia.org/wiki/Circumference\">Circumference</a></td><td>700</td><td> -1 </td><td> <3 </td></tr><tr><td><a href=\"https://en.wikipedia.org/wiki/Approximations of π\">Approximations of π</a></td><td>675</td><td> -1 </td><td> <3 </td></tr><tr><td><a href=\"https://en.wikipedia.org/wiki/Leibniz formula for π\">Leibniz formula for π</a></td><td>657</td><td> -1 </td><td> <3 </td></tr><tr><td><a href=\"https://en.wikipedia.org/wiki/Lindemann–Weierstrass theorem\">Lindemann–Weierstrass theorem</a></td><td>603</td><td> -1 </td><td> <3 </td></tr><tr><td><a href=\"https://en.wikipedia.org/wiki/Mathematical constant\">Mathematical constant</a></td><td>599</td><td> -1 </td><td> <3 </td></tr><tr><td><a href=\"https://en.wikipedia.org/wiki/Piphilology\">Piphilology</a></td><td>460</td><td> -1 </td><td> <3 </td></tr><tr><td><a href=\"https://en.wikipedia.org/wiki/Srinivasa Ramanujan\">Srinivasa Ramanujan</a></td><td>399</td><td> -1 </td><td> <3 </td></tr><tr><td><a href=\"https://en.wikipedia.org/wiki/Method of loci\">Method of loci</a></td><td>393</td><td> -1 </td><td> <3 </td></tr><tr><td><a href=\"https://en.wikipedia.org/wiki/Archimedes\">Archimedes</a></td><td>317</td><td> -1 </td><td> <3 </td></tr><tr><td><a href=\"https://en.wikipedia.org/wiki/Proof that 22/7 exceeds π\">Proof that 22/7 exceeds π</a></td><td>297</td><td> -1 </td><td> <3 </td></tr><tr><td><a href=\"https://en.wikipedia.org/wiki/Mandelbrot set\">Mandelbrot set</a></td><td>287</td><td> -1 </td><td> <3 </td></tr><tr><td><a href=\"https://en.wikipedia.org/wiki/Diameter\">Diameter</a></td><td>283</td><td> -1 </td><td> <3 </td></tr><tr><td><a href=\"https://en.wikipedia.org/wiki/Repeating decimal\">Repeating decimal</a></td><td>270</td><td> -1 </td><td> <3 </td></tr><tr><td><a href=\"https://en.wikipedia.org/wiki/Indiana Pi Bill\">Indiana Pi Bill</a></td><td>269</td><td> -1 </td><td> <3 </td></tr><tr><td><a href=\"https://en.wikipedia.org/wiki/Feynman point\">Feynman point</a></td><td>258</td><td> -1 </td><td> <3 </td></tr><tr><td><a href=\"https://en.wikipedia.org/wiki/Series (mathematics)\">Series (mathematics)</a></td><td>249</td><td> -1 </td><td> <3 </td></tr><tr><td><a href=\"https://en.wikipedia.org/wiki/Area of a disk\">Area of a disk</a></td><td>234</td><td> -1 </td><td> <3 </td></tr><tr><td><a href=\"https://en.wikipedia.org/wiki/Method of exhaustion\">Method of exhaustion</a></td><td>231</td><td> -1 </td><td> <3 </td></tr><tr><td><a href=\"https://en.wikipedia.org/wiki/List of formulae involving π\">List of formulae involving π</a></td><td>226</td><td> -1 </td><td> <3 </td></tr><tr><td><a href=\"https://en.wikipedia.org/wiki/Leonhard Euler\">Leonhard Euler</a></td><td>226</td><td> -1 </td><td> <3 </td></tr><tr><td><a href=\"https://en.wikipedia.org/wiki/Compass-and-straightedge construction\">Compass-and-straightedge construction</a></td><td>226</td><td> -1 </td><td> <3 </td></tr><tr><td><a href=\"https://en.wikipedia.org/wiki/Chudnovsky algorithm\">Chudnovsky algorithm</a></td><td>218</td><td> -1 </td><td> <3 </td></tr></table>"
      ],
      "text/plain": [
       "<IPython.core.display.HTML object>"
      ]
     },
     "metadata": {},
     "output_type": "display_data"
    }
   ],
   "source": [
    "dic_1=get_clicks_ranking('Pi')\n",
    "print (len(dic_1))\n",
    "dic_2={}\n",
    "dic_3={}\n",
    "\n",
    "\n",
    "html = \"<table>\"\n",
    "html+= \"<tr><td>Title</td><td>Dic 1</td><td>Dic 2</td><td>Dic 3</td></tr>\"\n",
    "for (k,v) in dic_1[:30]:\n",
    "    html += \"<tr><td><a href=\\\"https://en.wikipedia.org/wiki/%s\\\">%s</a></td><td>%s</td>\" % (k,k,v)\n",
    "    if k in dic_2:\n",
    "        html += \"<td>%s</td>\" % (dic_2[k])   \n",
    "    else:\n",
    "        html += \"<td> -1 </td>\"   \n",
    "    if k in dic_3:\n",
    "        html += \"<td>%s</td>\" % (dic_3[k])   \n",
    "    else:\n",
    "        html += \"<td> <3 </td>\"   \n",
    "    html += \"</tr>\"\n",
    "html += \"</table>\"    \n",
    "\n",
    "display(HTML(html))"
   ]
  },
  {
   "cell_type": "code",
   "execution_count": null,
   "metadata": {
    "collapsed": false
   },
   "outputs": [],
   "source": []
  },
  {
   "cell_type": "code",
   "execution_count": null,
   "metadata": {
    "collapsed": false
   },
   "outputs": [],
   "source": []
  },
  {
   "cell_type": "code",
   "execution_count": null,
   "metadata": {
    "collapsed": true
   },
   "outputs": [],
   "source": []
  }
 ],
 "metadata": {
  "kernelspec": {
   "display_name": "Python 2",
   "language": "python",
   "name": "python2"
  },
  "language_info": {
   "codemirror_mode": {
    "name": "ipython",
    "version": 2
   },
   "file_extension": ".py",
   "mimetype": "text/x-python",
   "name": "python",
   "nbconvert_exporter": "python",
   "pygments_lexer": "ipython2",
   "version": "2.7.6"
  }
 },
 "nbformat": 4,
 "nbformat_minor": 0
}
